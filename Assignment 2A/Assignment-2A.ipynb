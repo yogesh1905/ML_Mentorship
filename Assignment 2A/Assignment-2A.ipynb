{
  "cells": [
    {
      "metadata": {
        "trusted": true,
        "_uuid": "a5a928c670ae5eeef8781a12a3593b5145bccd93"
      },
      "cell_type": "code",
      "source": "import numpy as np\nimport scipy\n\"\"\"Link to the numpy docs: https://docs.scipy.org/doc/numpy-1.13.0/reference/\"\"\"",
      "execution_count": 21,
      "outputs": [
        {
          "output_type": "execute_result",
          "execution_count": 21,
          "data": {
            "text/plain": "'Link to the numpy docs: https://docs.scipy.org/doc/numpy-1.13.0/reference/'"
          },
          "metadata": {}
        }
      ]
    },
    {
      "metadata": {
        "_uuid": "8f4290788705bb5e5855e81b0867c0e6f2005863"
      },
      "cell_type": "markdown",
      "source": "Lets solve a few basic numpy problems"
    },
    {
      "metadata": {
        "trusted": true,
        "_uuid": "0811a39bb6a2ea5a428bd089932d570324104a65"
      },
      "cell_type": "code",
      "source": "def get_range(start, end, step):\n    \"\"\"Return an array of given range with specific step\"\"\"\n    #initialize array\n    arr = np.arange(start,end,step)\n    #define the function to assign the elements\n    \n    #return the array\n    return(arr)",
      "execution_count": 5,
      "outputs": []
    },
    {
      "metadata": {
        "trusted": true,
        "_uuid": "e3832d70f5ab0854cb33fdb81488cf324c721c89"
      },
      "cell_type": "code",
      "source": "def new_shape(old_array, new_shape):\n    \"\"\"Return an array of given shape\"\"\"\n    #check if array can be reshaped to given dimensions\n    if(np.prod(new_shape) != old_array.size):\n        return None\n    #define the function to reshape the array\n    new_arr = np.reshape(old_array,new_shape)\n    #return the array\n    return(new_arr)\n\na = np.arange(0,10,2)\nnew_a = new_shape(a,(5,1))\nprint(new_a)",
      "execution_count": 6,
      "outputs": [
        {
          "output_type": "stream",
          "text": "[[0]\n [2]\n [4]\n [6]\n [8]]\n",
          "name": "stdout"
        }
      ]
    },
    {
      "metadata": {
        "trusted": true,
        "_uuid": "41db5b2a75d5549059118d348c79d63821186be6"
      },
      "cell_type": "code",
      "source": "def reverse_array(old_array):\n    \"\"\"Return the reversed array\"\"\"\n    #initialize array\n    \n    #define function to reverse array\n    arr = np.flip(old_array)\n    #return the array\n    return(arr)",
      "execution_count": 7,
      "outputs": []
    },
    {
      "metadata": {
        "trusted": true,
        "_uuid": "1ba5ce6f6bd1f7506b458d8ee11734c738fec462"
      },
      "cell_type": "code",
      "source": "def stack_lists(lists):\n    \"\"\"Return an array containing lists stacked horizontally\"\"\"\n    #initialize array\n    \n    #define function to return array with stacked lists given whether arrays to be stacked horizontally or vertically\n    print(\"1)Horizontal stack\", \"2)Vertical stack\")\n    x = input()\n    if(x == 1):\n        a = np.hstack(lists)\n    elif(x == 2):\n        a = np.vstack(lists)\n    else:\n        return None\n    #return the array\n    return(a)",
      "execution_count": 8,
      "outputs": []
    },
    {
      "metadata": {
        "trusted": true,
        "_uuid": "04f5b453810fe4a4661a3fa02fdabeed7f10927e"
      },
      "cell_type": "code",
      "source": "def get_trignometric_values(angles):\n    \"\"\"Return an array containing sine, cosine and tangent values of the given angle stacked horizontally\"\"\"\n    #initialize array\n    \n    #define sine function\n    sin = np.sin(angles)\n    #define cosine function\n    cos = np.cos(angles)\n    #define tangent function\n    tan = np.tan(angles)\n    #define function to return array with stacked lists\n    lists = [sin,cos,tan]\n    a = np.hstack(lists)\n    #return the array\n    return(a)",
      "execution_count": 9,
      "outputs": []
    },
    {
      "metadata": {
        "trusted": true,
        "_uuid": "2dfcb825acbaec05fb2c8eb5a445833db07503c7"
      },
      "cell_type": "code",
      "source": "def invert_array(array):\n    \"\"\"Return the pseudo inverse of the given array; read more about pseudo inverse at: \n    https://en.wikipedia.org/wiki/Moore%E2%80%93Penrose_inverse\"\"\"\n    #define function to invert array\n    a = np.linalg.pinv(array)\n    #return the array\n    return(a)",
      "execution_count": 11,
      "outputs": []
    },
    {
      "metadata": {
        "trusted": true,
        "_uuid": "daeb934349350705f336c65568364a4140fc9a55"
      },
      "cell_type": "code",
      "source": "def flatten_array(array):\n    \"\"\"Return the flattened array\"\"\"\n    #define function to flatten array\n    a = np.ndarray.flatten(array)\n    #return the array\n    return(a)",
      "execution_count": 10,
      "outputs": []
    },
    {
      "metadata": {
        "trusted": true,
        "_uuid": "2853a4bd023f500403a62aa5fc50bc8a672ac3ad"
      },
      "cell_type": "code",
      "source": "def add_noise(array, mean, std):\n    \"\"\"Add gaussian noise with given mean and standard deviation; read more about the normal distribution at:\n    https://en.wikipedia.org/wiki/Normal_distribution\"\"\"\n    #define function to add noise with the given mean and standard deviation\n    arr = np.random.noise(mean,std,array.size)\n    #return the array\n    return(arr)",
      "execution_count": 12,
      "outputs": []
    },
    {
      "metadata": {
        "trusted": true,
        "_uuid": "8763aa51d5316a9abfb8f1b10b8849add9d8c9cb"
      },
      "cell_type": "code",
      "source": "def expand_array(array, axis):\n    \"\"\"Return an array expanded along the column\"\"\"\n    #define function to expand array\n    arr = np.expand_dims(array,axis)\n    #return the array\n    return(arr)",
      "execution_count": 13,
      "outputs": []
    },
    {
      "metadata": {
        "trusted": true,
        "_uuid": "9ff19794677a144440dd5225b75815ee975a4da1"
      },
      "cell_type": "code",
      "source": "def sigmoid_fn(array):\n    \"\"\"Return an array with the sigmoid values\"\"\"\n    #define sigmoid function \n    sigmoid = lambda x: 1.0/(1.0 + np.exp(-x))\n    vect = np.vectorize(sigmoid)\n    arr = vect(array)\n    #return the array\n    return(arr)",
      "execution_count": 14,
      "outputs": []
    },
    {
      "metadata": {
        "trusted": true,
        "_uuid": "632faea08fb5f7bf9d1170e61ffb92cb9c1a913f"
      },
      "cell_type": "code",
      "source": "def get_means(array):\n    \"\"\"Return arithmetic mean, geometric mean, harmonic mean and log means in a column array\"\"\"\n    #define function for arithmetic mean\n    a = np.mean(array)\n    #define function for geometric mean\n    b = (scipy.stats.mstats.gmean(array))\n    #define function for harmonic mean\n    c = (scipy.stats.mstats.hmean(array))\n    #scipy.stats.mstats.gmean\n    #define function for log means\n    d = np.log(array).mean()\n    #stack the means in an array\n    means = [a,b,c,d]\n    y = np.hstack(means)\n    #return the array\n    return(y)\n\narr = np.arange(1,10,2)\nget_means(arr)",
      "execution_count": 24,
      "outputs": [
        {
          "output_type": "error",
          "ename": "AttributeError",
          "evalue": "module 'scipy' has no attribute 'mstats'",
          "traceback": [
            "\u001b[0;31m---------------------------------------------------------------------------\u001b[0m",
            "\u001b[0;31mAttributeError\u001b[0m                            Traceback (most recent call last)",
            "\u001b[0;32m<ipython-input-24-77c1099cdee4>\u001b[0m in \u001b[0;36m<module>\u001b[0;34m\u001b[0m\n\u001b[1;32m     17\u001b[0m \u001b[0;34m\u001b[0m\u001b[0m\n\u001b[1;32m     18\u001b[0m \u001b[0marr\u001b[0m \u001b[0;34m=\u001b[0m \u001b[0mnp\u001b[0m\u001b[0;34m.\u001b[0m\u001b[0marange\u001b[0m\u001b[0;34m(\u001b[0m\u001b[0;36m1\u001b[0m\u001b[0;34m,\u001b[0m\u001b[0;36m10\u001b[0m\u001b[0;34m,\u001b[0m\u001b[0;36m2\u001b[0m\u001b[0;34m)\u001b[0m\u001b[0;34m\u001b[0m\u001b[0m\n\u001b[0;32m---> 19\u001b[0;31m \u001b[0mget_means\u001b[0m\u001b[0;34m(\u001b[0m\u001b[0marr\u001b[0m\u001b[0;34m)\u001b[0m\u001b[0;34m\u001b[0m\u001b[0m\n\u001b[0m",
            "\u001b[0;32m<ipython-input-24-77c1099cdee4>\u001b[0m in \u001b[0;36mget_means\u001b[0;34m(array)\u001b[0m\n\u001b[1;32m      4\u001b[0m     \u001b[0ma\u001b[0m \u001b[0;34m=\u001b[0m \u001b[0mnp\u001b[0m\u001b[0;34m.\u001b[0m\u001b[0mmean\u001b[0m\u001b[0;34m(\u001b[0m\u001b[0marray\u001b[0m\u001b[0;34m)\u001b[0m\u001b[0;34m\u001b[0m\u001b[0m\n\u001b[1;32m      5\u001b[0m     \u001b[0;31m#define function for geometric mean\u001b[0m\u001b[0;34m\u001b[0m\u001b[0;34m\u001b[0m\u001b[0m\n\u001b[0;32m----> 6\u001b[0;31m     \u001b[0mb\u001b[0m \u001b[0;34m=\u001b[0m \u001b[0;34m(\u001b[0m\u001b[0mscipy\u001b[0m\u001b[0;34m.\u001b[0m\u001b[0mmstats\u001b[0m\u001b[0;34m.\u001b[0m\u001b[0mgmean\u001b[0m\u001b[0;34m(\u001b[0m\u001b[0marray\u001b[0m\u001b[0;34m)\u001b[0m\u001b[0;34m)\u001b[0m\u001b[0;34m\u001b[0m\u001b[0m\n\u001b[0m\u001b[1;32m      7\u001b[0m     \u001b[0;31m#define function for harmonic mean\u001b[0m\u001b[0;34m\u001b[0m\u001b[0;34m\u001b[0m\u001b[0m\n\u001b[1;32m      8\u001b[0m     \u001b[0mc\u001b[0m \u001b[0;34m=\u001b[0m \u001b[0;34m(\u001b[0m\u001b[0mscipy\u001b[0m\u001b[0;34m.\u001b[0m\u001b[0mmstats\u001b[0m\u001b[0;34m.\u001b[0m\u001b[0mhmean\u001b[0m\u001b[0;34m(\u001b[0m\u001b[0marray\u001b[0m\u001b[0;34m)\u001b[0m\u001b[0;34m)\u001b[0m\u001b[0;34m\u001b[0m\u001b[0m\n",
            "\u001b[0;31mAttributeError\u001b[0m: module 'scipy' has no attribute 'mstats'"
          ]
        }
      ]
    },
    {
      "metadata": {
        "trusted": true,
        "_uuid": "95d7f72fb453f933bf9bade87b37cfa17c8484a6"
      },
      "cell_type": "code",
      "source": "def return_count(array, threshold):\n    \"\"\"Return the number of elements above the threshold in an array\"\"\"\n    #define function to count the number of elements above the threshold\n    arr = np.where(array > threshold)\n    #return the value\n    return(arr)",
      "execution_count": 19,
      "outputs": []
    },
    {
      "metadata": {
        "trusted": true,
        "_uuid": "416b03f928bf7ad2466533cd14fbaf435a53f92a"
      },
      "cell_type": "code",
      "source": "def column_sum(array, column_no):\n    \"\"\"Return the sum of all the elements in a column of the array\"\"\"\n    #check if column exists in array, else return(np.nan)\n    if(array.shape[1] < column_no):\n        return(np.nan)\n    else:\n        return(np.sum(array[column_no],axis=1))\n    #define function to return the sum of elements in the given column\n    \n    #return the value\n    #return()",
      "execution_count": 20,
      "outputs": []
    },
    {
      "metadata": {
        "trusted": false,
        "_uuid": "70523b6119062aa8b79c84372d3f58f32805565d"
      },
      "cell_type": "code",
      "source": "def row_sum(array, row_no):\n    \"\"\"Return the sum of all the elements in a row of the array\"\"\"\n    #check if row exists in array, else return(np.nan)\n    if(array.shape[0] < row_no):\n        return(np.nan)\n    else:\n        return(np.sum(array[row_no],axis=0))\n    #define function to return the sum of elements in the given row\n    \n    #return the value",
      "execution_count": null,
      "outputs": []
    }
  ],
  "metadata": {
    "kernelspec": {
      "display_name": "Python 3",
      "language": "python",
      "name": "python3"
    },
    "language_info": {
      "codemirror_mode": {
        "name": "ipython",
        "version": 3
      },
      "file_extension": ".py",
      "mimetype": "text/x-python",
      "name": "python",
      "nbconvert_exporter": "python",
      "pygments_lexer": "ipython3",
      "version": "3.7.0"
    }
  },
  "nbformat": 4,
  "nbformat_minor": 1
}